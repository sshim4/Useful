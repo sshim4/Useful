{
 "cells": [
  {
   "cell_type": "markdown",
   "id": "80bf1a09",
   "metadata": {},
   "source": [
    "# Install"
   ]
  },
  {
   "cell_type": "markdown",
   "id": "e751c1f4",
   "metadata": {},
   "source": [
    "\n",
    "<font size=\"3\">    __1__ Open Anaconda Prompt <br>\n",
    "<font size=\"3\">    __2__ conda activate name_of_your_desired_environment <br>\n",
    "<font size=\"3\">    __3__ conda install -c \"conda-forge/label/cf202003\" r-base <br>"
   ]
  },
  {
   "cell_type": "markdown",
   "id": "7b9f9a48",
   "metadata": {},
   "source": [
    "for step3, refer https://anaconda.org/conda-forge/r-base"
   ]
  },
  {
   "cell_type": "markdown",
   "id": "fa60ed84",
   "metadata": {},
   "source": [
    "# Update"
   ]
  },
  {
   "cell_type": "markdown",
   "id": "8f02ae71",
   "metadata": {},
   "source": [
    "<font size=\"3\">    __1__ Open Anaconda Prompt <br>\n",
    "<font size=\"3\">    __2__ conda activate name_of_your_environment <br>\n",
    "<font size=\"3\">    __3__ conda update --all"
   ]
  },
  {
   "cell_type": "code",
   "execution_count": null,
   "id": "7b48855b",
   "metadata": {},
   "outputs": [],
   "source": [
    "# install\n",
    "\n",
    "conda activate Soonmi\n",
    "\n"
   ]
  },
  {
   "cell_type": "code",
   "execution_count": null,
   "id": "ce3dc2c2",
   "metadata": {},
   "outputs": [],
   "source": [
    "https://anaconda.org/conda-forge/r-base"
   ]
  },
  {
   "cell_type": "code",
   "execution_count": null,
   "id": "acc0e6b0",
   "metadata": {},
   "outputs": [],
   "source": []
  },
  {
   "cell_type": "code",
   "execution_count": null,
   "id": "bfb19452",
   "metadata": {},
   "outputs": [],
   "source": [
    "#Upddae "
   ]
  },
  {
   "cell_type": "code",
   "execution_count": null,
   "id": "e8fd4de1",
   "metadata": {},
   "outputs": [],
   "source": [
    "conda activate Soonmi"
   ]
  },
  {
   "cell_type": "code",
   "execution_count": null,
   "id": "9278362a",
   "metadata": {},
   "outputs": [],
   "source": [
    "conda update --all"
   ]
  }
 ],
 "metadata": {
  "kernelspec": {
   "display_name": "Python 3 (ipykernel)",
   "language": "python",
   "name": "python3"
  },
  "language_info": {
   "codemirror_mode": {
    "name": "ipython",
    "version": 3
   },
   "file_extension": ".py",
   "mimetype": "text/x-python",
   "name": "python",
   "nbconvert_exporter": "python",
   "pygments_lexer": "ipython3",
   "version": "3.9.12"
  }
 },
 "nbformat": 4,
 "nbformat_minor": 5
}
