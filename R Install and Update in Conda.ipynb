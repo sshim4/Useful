{
 "cells": [
  {
   "cell_type": "markdown",
   "id": "bb0c8ccc",
   "metadata": {},
   "source": [
    "# Install\n"
   ]
  },
  {
   "cell_type": "markdown",
   "id": "2d423a6e",
   "metadata": {},
   "source": [
    "\n",
    "<font size=\"3\">    __1__ Open Anaconda Prompt <br>\n",
    "<font size=\"3\">    __2__ conda activate name_of_your_desired_environment <br>\n",
    "<font size=\"3\">    __3__ conda install -c \"conda-forge/label/cf202003\" r-base <br>"
   ]
  },
  {
   "cell_type": "markdown",
   "id": "0bd623d7",
   "metadata": {},
   "source": [
    "for step3, refer https://anaconda.org/conda-forge/r-base"
   ]
  },
  {
   "cell_type": "markdown",
   "id": "135a312c",
   "metadata": {},
   "source": [
    "# Update"
   ]
  },
  {
   "cell_type": "markdown",
   "id": "2fa9d92c",
   "metadata": {},
   "source": [
    "<font size=\"3\">    __1__ Open Anaconda Prompt <br>\n",
    "<font size=\"3\">    __2__ conda activate name_of_your_environment <br>\n",
    "<font size=\"3\">    __3__ conda update --all"
   ]
  }
 ],
 "metadata": {
  "kernelspec": {
   "display_name": "Python 3 (ipykernel)",
   "language": "python",
   "name": "python3"
  },
  "language_info": {
   "codemirror_mode": {
    "name": "ipython",
    "version": 3
   },
   "file_extension": ".py",
   "mimetype": "text/x-python",
   "name": "python",
   "nbconvert_exporter": "python",
   "pygments_lexer": "ipython3",
   "version": "3.9.12"
  }
 },
 "nbformat": 4,
 "nbformat_minor": 5
}
