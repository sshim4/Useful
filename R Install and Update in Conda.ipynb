{
 "cells": [
  {
   "cell_type": "markdown",
   "id": "1451c0b7",
   "metadata": {},
   "source": [
    "# Install\n"
   ]
  },
  {
   "cell_type": "markdown",
   "id": "b5a875e3",
   "metadata": {},
   "source": [
    "\n",
    "<font size=\"3\">    __1__ Open Anaconda Prompt <br>\n",
    "<font size=\"3\">    __2__ conda activate name_of_your_desired_environment <br>\n",
    "            _example) conda activate Soonmi <br>_\n",
    "<font size=\"3\">    __3__ conda install -c \"conda-forge/label/cf202003\" r-base <br>"
   ]
  },
  {
   "cell_type": "markdown",
   "id": "e557b59f",
   "metadata": {},
   "source": [
    "for step3, refer https://anaconda.org/conda-forge/r-base"
   ]
  },
  {
   "cell_type": "markdown",
   "id": "66348b66",
   "metadata": {},
   "source": [
    "# Update"
   ]
  },
  {
   "cell_type": "markdown",
   "id": "a97a2325",
   "metadata": {},
   "source": [
    "<font size=\"3\">    __1__ Open Anaconda Prompt <br>\n",
    "<font size=\"3\">    __2__ conda activate name_of_your_environment <br>\n",
    "    _example) conda activate Soonmi <br>_\n",
    "<font size=\"3\">    __3__ conda update --all"
   ]
  }
 ],
 "metadata": {
  "kernelspec": {
   "display_name": "Python 3 (ipykernel)",
   "language": "python",
   "name": "python3"
  },
  "language_info": {
   "codemirror_mode": {
    "name": "ipython",
    "version": 3
   },
   "file_extension": ".py",
   "mimetype": "text/x-python",
   "name": "python",
   "nbconvert_exporter": "python",
   "pygments_lexer": "ipython3",
   "version": "3.9.12"
  }
 },
 "nbformat": 4,
 "nbformat_minor": 5
}
